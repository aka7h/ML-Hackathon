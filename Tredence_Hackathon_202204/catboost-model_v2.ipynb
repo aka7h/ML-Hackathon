{
 "cells": [
  {
   "cell_type": "markdown",
   "metadata": {
    "_execution_state": "idle",
    "_uuid": "051d70d956493feee0c6d64651c6a088724dca2a",
    "execution": {
     "iopub.execute_input": "2022-04-22T06:13:42.065769Z",
     "iopub.status.busy": "2022-04-22T06:13:42.063813Z",
     "iopub.status.idle": "2022-04-22T06:13:46.290973Z"
    }
   },
   "source": [
    "# Introduction\n",
    "\n",
    "The aim of this challenge is to predict both weekly and daily level demand forecast\n",
    "\n",
    "Evalualtion Metrics:\n",
    "max(0,100*(1-MAPE))"
   ]
  },
  {
   "cell_type": "markdown",
   "metadata": {},
   "source": [
    "# Load Libraries & Dataset"
   ]
  },
  {
   "cell_type": "code",
   "execution_count": 1,
   "metadata": {},
   "outputs": [
    {
     "name": "stderr",
     "output_type": "stream",
     "text": [
      "also installing the dependencies 'hardhat', 'ipred', 'rlang', 'recipes', 'ggplot2', 'scales'\n",
      "\n"
     ]
    },
    {
     "name": "stdout",
     "output_type": "stream",
     "text": [
      "\n",
      "  There are binary versions available but the source versions are later:\n",
      "             binary source needs_compilation\n",
      "hardhat       0.1.5  0.2.0             FALSE\n",
      "ipred        0.9-11 0.9-12              TRUE\n",
      "rlang        0.4.11  1.0.2              TRUE\n",
      "recipes      0.1.16  0.2.0             FALSE\n",
      "ggplot2       3.3.3  3.3.5             FALSE\n",
      "scales        1.1.1  1.2.0             FALSE\n",
      "tidygeocoder  1.0.3  1.0.5             FALSE\n",
      "timetk        2.6.1  2.8.0             FALSE\n",
      "skimr         2.1.3  2.1.4             FALSE\n",
      "lubridate    1.7.10  1.8.0              TRUE\n",
      "plotly        4.9.3 4.10.0             FALSE\n",
      "\n",
      "  Binaries will be installed\n",
      "package 'ipred' successfully unpacked and MD5 sums checked\n",
      "package 'rlang' successfully unpacked and MD5 sums checked\n",
      "package 'lubridate' successfully unpacked and MD5 sums checked\n",
      "package 'Metrics' successfully unpacked and MD5 sums checked\n",
      "\n",
      "The downloaded binary packages are in\n",
      "\tC:\\Users\\ser\\AppData\\Local\\Temp\\RtmpC8ZoFq\\downloaded_packages\n"
     ]
    },
    {
     "name": "stderr",
     "output_type": "stream",
     "text": [
      "installing the source packages 'hardhat', 'recipes', 'ggplot2', 'scales', 'tidygeocoder', 'timetk', 'skimr', 'plotly'\n",
      "\n",
      "Warning message in install.packages(c(\"tidygeocoder\", \"timetk\", \"skimr\", \"lubridate\", :\n",
      "\"installation of package 'scales' had non-zero exit status\"Warning message in install.packages(c(\"tidygeocoder\", \"timetk\", \"skimr\", \"lubridate\", :\n",
      "\"installation of package 'recipes' had non-zero exit status\"Warning message in install.packages(c(\"tidygeocoder\", \"timetk\", \"skimr\", \"lubridate\", :\n",
      "\"installation of package 'ggplot2' had non-zero exit status\"Warning message in install.packages(c(\"tidygeocoder\", \"timetk\", \"skimr\", \"lubridate\", :\n",
      "\"installation of package 'plotly' had non-zero exit status\"Warning message in install.packages(c(\"tidygeocoder\", \"timetk\", \"skimr\", \"lubridate\", :\n",
      "\"installation of package 'timetk' had non-zero exit status\""
     ]
    }
   ],
   "source": [
    "install.packages(c(\"tidygeocoder\",\"timetk\",\"skimr\",\"lubridate\",\"Metrics\",\"plotly\"))"
   ]
  },
  {
   "cell_type": "code",
   "execution_count": 2,
   "metadata": {
    "tags": []
   },
   "outputs": [
    {
     "name": "stderr",
     "output_type": "stream",
     "text": [
      "Warning message:\n",
      "\"package 'tidyverse' was built under R version 3.6.3\""
     ]
    },
    {
     "ename": "ERROR",
     "evalue": "Error: package or namespace load failed for 'tidyverse' in loadNamespace(j <- i[[1L]], c(lib.loc, .libPaths()), versionCheck = vI[[j]]):\n there is no package called 'broom'\n",
     "output_type": "error",
     "traceback": [
      "Error: package or namespace load failed for 'tidyverse' in loadNamespace(j <- i[[1L]], c(lib.loc, .libPaths()), versionCheck = vI[[j]]):\n there is no package called 'broom'\nTraceback:\n",
      "1. library(tidyverse)",
      "2. tryCatch({\n .     attr(package, \"LibPath\") <- which.lib.loc\n .     ns <- loadNamespace(package, lib.loc)\n .     env <- attachNamespace(ns, pos = pos, deps, exclude, include.only)\n . }, error = function(e) {\n .     P <- if (!is.null(cc <- conditionCall(e))) \n .         paste(\" in\", deparse(cc)[1L])\n .     else \"\"\n .     msg <- gettextf(\"package or namespace load failed for %s%s:\\n %s\", \n .         sQuote(package), P, conditionMessage(e))\n .     if (logical.return) \n .         message(paste(\"Error:\", msg), domain = NA)\n .     else stop(msg, call. = FALSE, domain = NA)\n . })",
      "3. tryCatchList(expr, classes, parentenv, handlers)",
      "4. tryCatchOne(expr, names, parentenv, handlers[[1L]])",
      "5. value[[3L]](cond)",
      "6. stop(msg, call. = FALSE, domain = NA)"
     ]
    }
   ],
   "source": [
    "library(tidyverse)\n",
    "library(lubridate)\n",
    "library(skimr)\n",
    "library(timetk)\n",
    "library(tidygeocoder)\n",
    "library(catboost)\n",
    "library(prophet)\n",
    "library(Metrics)\n",
    "library(rsample)\n",
    "library(plotly)\n",
    "\n",
    "train <- read_csv('../input/tredence-data-scientist-hiring-challenge//dataset//train.csv')\n",
    "test <- read_csv('../input/tredence-data-scientist-hiring-challenge//dataset//test.csv')\n",
    "sample_sub <- read_csv('../input/tredence-data-scientist-hiring-challenge//dataset//sample_submission.csv')\n",
    "weekly_sub <- read_csv('../input/tredence-data-scientist-hiring-challenge//dataset//submission_weekly.csv')"
   ]
  },
  {
   "cell_type": "code",
   "execution_count": 3,
   "metadata": {
    "execution": {
     "iopub.execute_input": "2022-04-23T15:45:26.346281Z",
     "iopub.status.busy": "2022-04-23T15:45:26.344668Z",
     "iopub.status.idle": "2022-04-23T15:45:26.358526Z"
    }
   },
   "outputs": [],
   "source": [
    "set.seed(1234)"
   ]
  },
  {
   "cell_type": "code",
   "execution_count": 4,
   "metadata": {
    "execution": {
     "iopub.execute_input": "2022-04-23T15:45:26.736942Z",
     "iopub.status.busy": "2022-04-23T15:45:26.735349Z",
     "iopub.status.idle": "2022-04-23T15:45:27.203901Z"
    }
   },
   "outputs": [],
   "source": [
    "skim(train)"
   ]
  },
  {
   "cell_type": "markdown",
   "metadata": {},
   "source": [
    "We see 10 different warehouse thats have 2 types of products. We can use warehouse id and product type as unique key to perform univariate time series\n",
    "\n",
    "We also see missing values for the following features\n",
    "* Latitude & Longitude - We can fill the missing values as location doesnt change for each warehouse\n",
    "* is_weekend - we can fill them based on the date feature (Sat/Sun)\n",
    "* is_warehouse_closed - extropolate from last year data\n",
    "*  weekly_dispatch_count - ignore "
   ]
  },
  {
   "cell_type": "markdown",
   "metadata": {},
   "source": [
    "# Exploratory Data Analysis\n",
    "\n",
    "Visualizing Daily level and monthly level seasonality"
   ]
  },
  {
   "cell_type": "code",
   "execution_count": 5,
   "metadata": {
    "execution": {
     "iopub.execute_input": "2022-04-23T15:45:31.784340Z",
     "iopub.status.busy": "2022-04-23T15:45:31.782776Z",
     "iopub.status.idle": "2022-04-23T15:45:31.877354Z"
    }
   },
   "outputs": [],
   "source": [
    "tr <- train %>% \n",
    "  unite(.,\"WH_PT\",c(\"warehouse_ID\",\"Product_Type\"),sep = \"_\",remove = FALSE) %>%\n",
    "  group_by(WH_PT) %>% mutate(GRP_ID = cur_group_id()) %>% ungroup()\n",
    "\n",
    "tr <- tr %>% arrange(WH_PT,date) %>%\n",
    "  mutate(WK_NUM = as.integer(format(date, '%V')))\n",
    "options(repr.plot.width = 14, repr.plot.height = 14)"
   ]
  },
  {
   "cell_type": "markdown",
   "metadata": {},
   "source": [
    "## Daily Level - Overall"
   ]
  },
  {
   "cell_type": "code",
   "execution_count": null,
   "metadata": {
    "execution": {
     "iopub.execute_input": "2022-04-22T11:41:23.718104Z",
     "iopub.status.busy": "2022-04-22T11:41:23.716499Z",
     "iopub.status.idle": "2022-04-22T11:41:24.901358Z"
    }
   },
   "outputs": [],
   "source": [
    "daily_lvl <- tr %>% mutate(dday = day(date)) %>%\n",
    "  group_by(WH_PT,GRP_ID,year,dday) %>%\n",
    "  summarise(avg_qty = mean(daily_dispatch_count))\n",
    "\n",
    "daily_lvl %>% filter(GRP_ID %in% c(1:6)) %>% ggplot(aes(year,dday))+\n",
    "  geom_tile(aes(fill=avg_qty),color='white',na.rm=TRUE)+\n",
    "  scale_fill_gradient(low =\"yellow\",high = \"red\")+\n",
    "  facet_wrap(~WH_PT, scales='free')"
   ]
  },
  {
   "cell_type": "code",
   "execution_count": null,
   "metadata": {
    "execution": {
     "iopub.execute_input": "2022-04-22T11:41:24.905791Z",
     "iopub.status.busy": "2022-04-22T11:41:24.90428Z",
     "iopub.status.idle": "2022-04-22T11:41:25.735446Z"
    }
   },
   "outputs": [],
   "source": [
    "daily_lvl %>% filter(GRP_ID %in% c(7:12)) %>% ggplot(aes(year,dday))+\n",
    "  geom_tile(aes(fill=avg_qty),color='white',na.rm=TRUE)+\n",
    "  scale_fill_gradient(low =\"yellow\",high = \"red\")+\n",
    "  facet_wrap(~WH_PT, scales='free')"
   ]
  },
  {
   "cell_type": "code",
   "execution_count": null,
   "metadata": {
    "execution": {
     "iopub.execute_input": "2022-04-22T11:41:25.739882Z",
     "iopub.status.busy": "2022-04-22T11:41:25.738281Z",
     "iopub.status.idle": "2022-04-22T11:41:26.71184Z"
    }
   },
   "outputs": [],
   "source": [
    "daily_lvl %>% filter(GRP_ID %in% c(13:20)) %>% ggplot(aes(year,dday))+\n",
    "  geom_tile(aes(fill=avg_qty),color='white',na.rm=TRUE)+\n",
    "  scale_fill_gradient(low =\"yellow\",high = \"red\")+\n",
    "  facet_wrap(~WH_PT, scales='free',ncol = 2)"
   ]
  },
  {
   "cell_type": "markdown",
   "metadata": {},
   "source": [
    "## Monthly Level - Overall"
   ]
  },
  {
   "cell_type": "code",
   "execution_count": null,
   "metadata": {
    "execution": {
     "iopub.execute_input": "2022-04-22T11:41:26.715833Z",
     "iopub.status.busy": "2022-04-22T11:41:26.714376Z",
     "iopub.status.idle": "2022-04-22T11:41:27.704754Z"
    }
   },
   "outputs": [],
   "source": [
    "monthly_lvl <- tr %>% mutate(dmon = month(date)) %>%\n",
    "  group_by(WH_PT,GRP_ID,year,dmon) %>%\n",
    "  summarise(avg_qty = mean(daily_dispatch_count))\n",
    "\n",
    "monthly_lvl %>% filter(GRP_ID %in% c(1:6)) %>% ggplot(aes(year,dmon))+\n",
    "  geom_tile(aes(fill=avg_qty),color='white',na.rm=TRUE)+\n",
    "  scale_fill_gradient(low =\"yellow\",high = \"red\")+\n",
    "  facet_wrap(~WH_PT, scales='free')"
   ]
  },
  {
   "cell_type": "code",
   "execution_count": null,
   "metadata": {
    "execution": {
     "iopub.execute_input": "2022-04-22T11:41:28.156795Z",
     "iopub.status.busy": "2022-04-22T11:41:28.155143Z",
     "iopub.status.idle": "2022-04-22T11:41:28.986906Z"
    }
   },
   "outputs": [],
   "source": [
    "monthly_lvl %>% filter(GRP_ID %in% c(7:12)) %>% ggplot(aes(year,dmon))+\n",
    "  geom_tile(aes(fill=avg_qty),color='white',na.rm=TRUE)+\n",
    "  scale_fill_gradient(low =\"yellow\",high = \"red\")+\n",
    "  facet_wrap(~WH_PT, scales='free')"
   ]
  },
  {
   "cell_type": "code",
   "execution_count": null,
   "metadata": {
    "execution": {
     "iopub.execute_input": "2022-04-22T11:41:29.739055Z",
     "iopub.status.busy": "2022-04-22T11:41:29.737346Z",
     "iopub.status.idle": "2022-04-22T11:41:30.998846Z"
    }
   },
   "outputs": [],
   "source": [
    "monthly_lvl %>% filter(GRP_ID %in% c(13:20)) %>% ggplot(aes(year,dmon))+\n",
    "  geom_tile(aes(fill=avg_qty),color='white',na.rm=TRUE)+\n",
    "  scale_fill_gradient(low =\"yellow\",high = \"red\")+\n",
    "  facet_wrap(~WH_PT, scales='free')\n"
   ]
  },
  {
   "cell_type": "code",
   "execution_count": null,
   "metadata": {
    "execution": {
     "iopub.execute_input": "2022-04-22T11:41:32.677278Z",
     "iopub.status.busy": "2022-04-22T11:41:32.675698Z",
     "iopub.status.idle": "2022-04-22T11:41:36.092482Z"
    }
   },
   "outputs": [],
   "source": [
    "tr %>% \n",
    "plot_ly(x=~date, y=~daily_dispatch_count, group=~WH_PT,\n",
    "                           type=\"scatter\",color=~WH_PT, mode=\"lines+markers\")"
   ]
  },
  {
   "cell_type": "markdown",
   "metadata": {},
   "source": [
    "We find\n",
    "* Yearly seasonality during the pre covid era (before Mar 2020)\n",
    "* A huge drop in avg demand after march & highly fluctuating, The fluctuations might b due to the effects of lockdown\n",
    "* Demand for product type A is higher than the product type B "
   ]
  },
  {
   "cell_type": "code",
   "execution_count": null,
   "metadata": {
    "execution": {
     "iopub.execute_input": "2022-04-22T11:55:40.200876Z",
     "iopub.status.busy": "2022-04-22T11:55:40.199086Z",
     "iopub.status.idle": "2022-04-22T11:55:41.903311Z"
    }
   },
   "outputs": [],
   "source": [
    "tr %>% mutate(month = lubridate::month(date,label = TRUE)) %>% \n",
    "filter(GRP_ID %in% c(1:4)&year>=2019) %>% \n",
    "  ggplot(aes(month,daily_dispatch_count,fill=factor(year)))+\n",
    "  geom_boxplot()+facet_wrap(~WH_PT,nrow = 2)"
   ]
  },
  {
   "cell_type": "markdown",
   "metadata": {},
   "source": [
    "## Feature Engineering \n",
    "\n",
    "Here we will be fixing the existing feature, treating missing values and building new features. We will be creating all necessary features for both **Machine learning** and **statistical time series models** and use them accordingly.\n",
    "\n",
    "1. WH_PT - combine warehouse id and product type to create a unique key use to train univariate time series\n",
    "2. is_weekend - (0/1) extract the binary feature from date variable\n",
    "3. is_warehouse_closed - (0/1) we extrapolate from the previous year data\n",
    "4. Latitude & Longitude - its repeated values for each warehouse, fill data\n",
    "    * state & county - extract state and county using the latitude and longitude data\n",
    "5. Time based features - extract year, month, quarter, day, day of month, week number etc\n",
    "6. Fourier series - augument fourier series data for 7,30,365 days\n",
    "7. n_idx - index for each warehouse product type group. this helps to capture trend when using tree based models\n",
    "8. Lag values - augument lag values for 7,30,365 days\n",
    "9. c19_season - (0/1) flag that differetiated pre and post covid season\n",
    "10. US Holiday flag - (0/1) flag for US holidays\n",
    "11. cap & floor - use to cap & floor forecast. (Used for prophet logistic growth) "
   ]
  },
  {
   "cell_type": "code",
   "execution_count": 6,
   "metadata": {
    "execution": {
     "iopub.execute_input": "2022-04-23T15:46:22.688468Z",
     "iopub.status.busy": "2022-04-23T15:46:22.686863Z",
     "iopub.status.idle": "2022-04-23T15:46:32.795706Z"
    }
   },
   "outputs": [],
   "source": [
    "# Extracting State and County using lat & long \n",
    "wh_loc <- train %>% select(warehouse_ID,Latitude,Longitude) %>% distinct() %>%\n",
    "  drop_na()\n",
    "\n",
    "wh_loc <- wh_loc %>% reverse_geocode(lat = Latitude, long = Longitude)\n",
    "\n",
    "wh_loc <- wh_loc %>% mutate(states = str_replace(word(address,-4),',',''),\n",
    "                            county = str_replace(word(address,-6),',','')) %>%\n",
    "  select(-Latitude,-Longitude,-address)\n",
    "\n",
    "wh_loc"
   ]
  },
  {
   "cell_type": "code",
   "execution_count": 7,
   "metadata": {
    "execution": {
     "iopub.execute_input": "2022-04-23T15:46:41.021576Z",
     "iopub.status.busy": "2022-04-23T15:46:41.019954Z",
     "iopub.status.idle": "2022-04-23T15:46:41.047498Z"
    }
   },
   "outputs": [],
   "source": [
    "train$is_train <- 1\n",
    "test$is_train <- 0\n",
    "test$daily_dispatch_count <- NA\n",
    "test$weekly_dispatch_count <- NA\n",
    "\n",
    "full_data <- rbind(train,test)"
   ]
  },
  {
   "cell_type": "code",
   "execution_count": 9,
   "metadata": {
    "execution": {
     "iopub.execute_input": "2022-04-23T15:46:56.098858Z",
     "iopub.status.busy": "2022-04-23T15:46:56.097079Z",
     "iopub.status.idle": "2022-04-23T15:46:56.131550Z"
    }
   },
   "outputs": [],
   "source": [
    "#' Combining both warehouse id and product type to unique key\n",
    "full_data <- full_data %>% \n",
    "  unite(.,\"WH_PT\",c(\"warehouse_ID\",\"Product_Type\"),sep = \"_\",remove = FALSE) %>%\n",
    "  group_by(WH_PT) %>% mutate(GRP_ID = cur_group_id())"
   ]
  },
  {
   "cell_type": "code",
   "execution_count": 10,
   "metadata": {
    "execution": {
     "iopub.execute_input": "2022-04-23T15:46:56.643723Z",
     "iopub.status.busy": "2022-04-23T15:46:56.641976Z",
     "iopub.status.idle": "2022-04-23T15:46:56.688012Z"
    }
   },
   "outputs": [],
   "source": [
    "full_data <- full_data %>% \n",
    "  mutate(is_weekend = if_else(wday(date,label = TRUE) %in% c(\"Sun\",\"Sat\"),1,0))"
   ]
  },
  {
   "cell_type": "code",
   "execution_count": 11,
   "metadata": {
    "execution": {
     "iopub.execute_input": "2022-04-23T15:46:57.470196Z",
     "iopub.status.busy": "2022-04-23T15:46:57.468427Z",
     "iopub.status.idle": "2022-04-23T15:46:57.573938Z"
    }
   },
   "outputs": [],
   "source": [
    "#' replacing missing values of warehouse closed based on the last year lag\n",
    "full_data <- full_data %>% group_by(WH_PT) %>%\n",
    "  mutate(is_warehouse_lag = lag(is_warehouse_closed,n=365,default=\"SKIP\"))\n",
    "\n",
    "full_data %>% group_by(is_warehouse_closed,is_warehouse_lag) %>% count() %>%\n",
    "  filter(is_warehouse_lag!='SKIP')\n",
    "\n",
    "\n",
    "full_data <- full_data %>% mutate(is_warehouse_closed = if_else(is.na(is_warehouse_closed),\n",
    "                                                                is_warehouse_lag,\n",
    "                                                                is_warehouse_closed)) %>%\n",
    "  mutate(is_wh_cls = if_else(is_warehouse_closed==\"Yes\",1,0)) %>%\n",
    "  select(-is_warehouse_closed,-is_warehouse_lag)\n"
   ]
  },
  {
   "cell_type": "code",
   "execution_count": 12,
   "metadata": {
    "execution": {
     "iopub.execute_input": "2022-04-23T15:46:58.831462Z",
     "iopub.status.busy": "2022-04-23T15:46:58.829662Z",
     "iopub.status.idle": "2022-04-23T15:46:58.874725Z"
    }
   },
   "outputs": [],
   "source": [
    "#' Filling the missing values in both Latitude and Longitude\n",
    "#' By filling the above or below value for the latitude and longitude\n",
    "full_data <- full_data %>% fill(Latitude,.direction = 'downup') %>%\n",
    "  fill(Longitude,.direction = 'downup')"
   ]
  },
  {
   "cell_type": "code",
   "execution_count": 13,
   "metadata": {
    "execution": {
     "iopub.execute_input": "2022-04-23T15:46:59.883104Z",
     "iopub.status.busy": "2022-04-23T15:46:59.881290Z",
     "iopub.status.idle": "2022-04-23T15:46:59.967856Z"
    }
   },
   "outputs": [],
   "source": [
    "#' Merging warehouse location data \n",
    "full_data <- full_data %>% left_join(.,wh_loc,by=\"warehouse_ID\")\n",
    "\n",
    "#' Creating a covid-19 flag based on the first lockdown initiated\n",
    "#' renaming date to ds and daily dispatch to y\n",
    "full_data <- full_data %>% ungroup()  %>%\n",
    "  rename(c(\"ds\"=\"date\",\"y\"=\"daily_dispatch_count\")) %>%\n",
    "  arrange(WH_PT,ds) %>%\n",
    "  mutate(c19_season = if_else(ds > '2020-03-15',1,0))"
   ]
  },
  {
   "cell_type": "code",
   "execution_count": 14,
   "metadata": {
    "execution": {
     "iopub.execute_input": "2022-04-23T15:47:00.746873Z",
     "iopub.status.busy": "2022-04-23T15:47:00.735086Z",
     "iopub.status.idle": "2022-04-23T15:47:01.746731Z"
    }
   },
   "outputs": [],
   "source": [
    "\n",
    "#' Augumenting US holidays flag\n",
    "full_data <- full_data %>% tk_augment_holiday_signature(.date_var = ds,\n",
    "                                                        .holiday_pattern = \"none\",\n",
    "                                                        .locale_set = \"US\",\n",
    "                                                        .exchange_set = \"US\")\n"
   ]
  },
  {
   "cell_type": "code",
   "execution_count": 15,
   "metadata": {
    "execution": {
     "iopub.execute_input": "2022-04-23T15:47:06.553629Z",
     "iopub.status.busy": "2022-04-23T15:47:06.552022Z",
     "iopub.status.idle": "2022-04-23T15:47:06.874111Z"
    }
   },
   "outputs": [],
   "source": [
    "#' Extract time based features\n",
    "#' \n",
    "full_data <- full_data %>% ungroup() %>% \n",
    "  mutate(year= lubridate::year(ds),\n",
    "         month = lubridate::month(ds,label = TRUE),\n",
    "         n_quarter = lubridate::quarter(ds),\n",
    "         n_day = lubridate::day(ds),\n",
    "         n_dom = lubridate::days_in_month(ds),\n",
    "         n_week = lubridate::isoweek(ds),\n",
    "         n_wday = lubridate::wday(ds,label = TRUE)) %>% \n",
    "  tk_augment_fourier(.date_var = ds,.periods = c(7,30,365),.K=1)"
   ]
  },
  {
   "cell_type": "code",
   "execution_count": 16,
   "metadata": {
    "execution": {
     "iopub.execute_input": "2022-04-23T15:47:08.101123Z",
     "iopub.status.busy": "2022-04-23T15:47:08.099477Z",
     "iopub.status.idle": "2022-04-23T15:47:08.623249Z"
    }
   },
   "outputs": [],
   "source": [
    "#' Create floor and Cap values at each group level\n",
    "#' create trend component for tree based models\n",
    "#' Crete Lag values\n",
    "full_data <- full_data %>%\n",
    "  group_by(WH_PT) %>%\n",
    "  # for logistic growth of prophet\n",
    "  mutate(floor = min(y,na.rm = T),cap=max(y,na.rm = T)*1.25) %>%\n",
    "  mutate(n_idx = row_number(),n_idx_sqr = row_number()^2) %>%\n",
    "  arrange(WH_PT,ds)%>% \n",
    "  tk_augment_lags(y,.lags = c(7,30,365)) %>%\n",
    "  ungroup()"
   ]
  },
  {
   "cell_type": "code",
   "execution_count": 17,
   "metadata": {
    "execution": {
     "iopub.execute_input": "2022-04-23T15:47:09.794260Z",
     "iopub.status.busy": "2022-04-23T15:47:09.792629Z",
     "iopub.status.idle": "2022-04-23T15:47:10.778045Z"
    }
   },
   "outputs": [],
   "source": [
    "skim(full_data)"
   ]
  },
  {
   "cell_type": "markdown",
   "metadata": {},
   "source": [
    "## Model Training \n",
    "\n",
    "When it comes to modeling time series we have use both Statistical Model(ARIMA, ETS) and Machine Learning Models(Boosted Trees). \n",
    "\n",
    "From below table of checking historical data, we see the time period for each warehouse product type is different. Traditional models like ARIMA and ETS requires a full cycle fo series, which means it will not work on short time series. Inorder to over come this issue I have consider Facebook's Prophet model for univariate modeling. \n",
    "\n",
    "For Machine Learning based time series model, I am considering both Catboost and H2O AutoML\n",
    "\n",
    "#### Models Experiemented\n",
    "Here are the list of models that I have experimented during the course of this hackathon. Note that I will adding very few models here in this notebook. Please find the rest of the models in each R file.\n",
    "\n",
    "List of models exprimented\n",
    "1. **Baseline Prophet Model**- Used xreg features is_weekend, is_wh_cls, c19_season, locale_US\n",
    "2. **Baseline Catboost** - Used all xreg including fourier, time, holiday based features \n",
    "3. **Prophet+Catboost** - Ran vanilla prophet, extracted its residual errors and used it as outcome to catboost model with xreg features (yhat= Prophet_prediction + catboost_residual_prediction)\n",
    "4. **Prophet(Logistic)+Catboost** - Same as above model, used logistic growth for prophet\n",
    "5. **H2O AutoML** - Ran a baseline h2o automl model (similar to catboost), Also a variant, where we cap forecast max(0,forecast)\n",
    "6. **AutoRegressor Catboost** - Ran individual catboost model to each warehouse product type, used lag features and ran a recursive auto regressive model to consider new forecast values as lag values for future prediction\n"
   ]
  },
  {
   "cell_type": "code",
   "execution_count": 18,
   "metadata": {
    "execution": {
     "iopub.execute_input": "2022-04-23T15:47:19.271585Z",
     "iopub.status.busy": "2022-04-23T15:47:19.269174Z",
     "iopub.status.idle": "2022-04-23T15:47:19.463285Z"
    }
   },
   "outputs": [],
   "source": [
    "#' Create train and test data for ML models\n",
    "tr_data <- full_data %>% filter(is_train==1) %>%\n",
    "  mutate_if(is.factor,as.numeric) %>%\n",
    "  mutate_if(is.character,as.factor) %>%\n",
    "  mutate_at(all_of(\"year\"),factor) %>%\n",
    "  select(-GRP_ID) %>%\n",
    "  replace_na(list(y_lag365=0,y_lag7=0,y_lag30=0))"
   ]
  },
  {
   "cell_type": "code",
   "execution_count": 19,
   "metadata": {
    "execution": {
     "iopub.execute_input": "2022-04-23T15:47:20.431257Z",
     "iopub.status.busy": "2022-04-23T15:47:20.429483Z",
     "iopub.status.idle": "2022-04-23T15:47:20.559113Z"
    }
   },
   "outputs": [],
   "source": [
    "te_data <- full_data %>% filter(is_train==0)%>%\n",
    "  mutate_if(is.factor,as.numeric) %>%\n",
    "  mutate_if(is.character,as.factor) %>%\n",
    "  mutate_at(all_of(\"year\"),factor) %>%\n",
    "  select(-GRP_ID) %>%\n",
    "  replace_na(list(y_lag365=0))"
   ]
  },
  {
   "cell_type": "code",
   "execution_count": 56,
   "metadata": {
    "execution": {
     "iopub.execute_input": "2022-04-23T16:28:31.071168Z",
     "iopub.status.busy": "2022-04-23T16:28:31.069619Z",
     "iopub.status.idle": "2022-04-23T16:28:31.152688Z"
    }
   },
   "outputs": [],
   "source": [
    "#' extract validation set\n",
    "val_data <- tr_data %>% filter(is_train==1&year==2020&n_week %in% c(41,42,43,44,45,46,47,48,49,50))"
   ]
  },
  {
   "cell_type": "code",
   "execution_count": 21,
   "metadata": {
    "execution": {
     "iopub.execute_input": "2022-04-23T15:47:25.298930Z",
     "iopub.status.busy": "2022-04-23T15:47:25.297384Z",
     "iopub.status.idle": "2022-04-23T15:47:25.393172Z"
    }
   },
   "outputs": [],
   "source": [
    "wkly_dispatch_check <- full_data %>% group_by(WH_PT,year,n_week) %>%\n",
    "  mutate(wkly_dispatch = sum(y)) %>% drop_na() %>% select(ds,WH_PT,wkly_dispatch)\n",
    "head(wkly_dispatch_check)"
   ]
  },
  {
   "cell_type": "code",
   "execution_count": 24,
   "metadata": {
    "execution": {
     "iopub.execute_input": "2022-04-23T15:48:31.433581Z",
     "iopub.status.busy": "2022-04-23T15:48:31.431875Z",
     "iopub.status.idle": "2022-04-23T15:48:31.486239Z"
    }
   },
   "outputs": [],
   "source": [
    "#' Use this data for all prophet models\n",
    "hist_data <- full_data %>% filter(is_train==1) %>%\n",
    "  select(WH_PT,ds,y,is_weekend,is_wh_cls,c19_season,locale_US,cap,floor)\n",
    "fut_data <- full_data %>% filter(is_train==0)%>%\n",
    "  select(WH_PT,ds,is_weekend,is_wh_cls,c19_season,locale_US,cap,floor)"
   ]
  },
  {
   "cell_type": "code",
   "execution_count": 25,
   "metadata": {
    "execution": {
     "iopub.execute_input": "2022-04-23T15:48:33.566881Z",
     "iopub.status.busy": "2022-04-23T15:48:33.565313Z",
     "iopub.status.idle": "2022-04-23T15:48:33.881253Z"
    }
   },
   "outputs": [],
   "source": [
    "hist_data %>% group_by(WH_PT) %>% count()"
   ]
  },
  {
   "cell_type": "code",
   "execution_count": 26,
   "metadata": {
    "execution": {
     "iopub.execute_input": "2022-04-23T15:48:42.272886Z",
     "iopub.status.busy": "2022-04-23T15:48:42.271292Z",
     "iopub.status.idle": "2022-04-23T15:48:42.301647Z"
    }
   },
   "outputs": [],
   "source": [
    "unique_wh <- full_data %>% distinct(WH_PT) %>% pull(WH_PT)\n",
    "\n",
    "xreg_cols <- colnames(hist_data)[c(4:7)]\n",
    "\n",
    "hist_fit <- tibble(NULL)\n",
    "future_frcst <- tibble(NULL)\n",
    "xreg_cols\n",
    "options( warn = -1 )"
   ]
  },
  {
   "cell_type": "code",
   "execution_count": 27,
   "metadata": {
    "execution": {
     "iopub.execute_input": "2022-04-23T15:48:54.680869Z",
     "iopub.status.busy": "2022-04-23T15:48:54.678214Z",
     "iopub.status.idle": "2022-04-23T15:51:27.633574Z"
    }
   },
   "outputs": [],
   "source": [
    "#' run the for loop for prophet using xreg values\n",
    "for(wh in unique_wh){\n",
    "  ## Prophet\n",
    "  message('====== Running prophet for ',wh)\n",
    "  \n",
    "  df_x <- hist_data %>% filter(WH_PT==wh) %>%\n",
    "    select(-WH_PT)\n",
    "  df_y <- fut_data %>% filter(WH_PT==wh) %>%\n",
    "    select(-WH_PT)\n",
    "  \n",
    "  fit_prophet <- prophet(growth='logistic')\n",
    "  \n",
    "  if(!is.null(xreg_cols)){\n",
    "    for(xr in xreg_cols){\n",
    "      fit_prophet <- add_regressor(fit_prophet,xr)\n",
    "    }\n",
    "  }\n",
    "  \n",
    "  fit_prophet <- fit.prophet(fit_prophet,df_x)\n",
    "  \n",
    "  prophet_fit <- stats::predict(fit_prophet,df_x) %>% pull(yhat)\n",
    "  prophet_pred <- stats::predict(fit_prophet,df_y) %>% pull(yhat)\n",
    "    \n",
    "  # message('Running arima for ',wh)\n",
    "  # # run arima\n",
    "  # ts_x <- ts(df_x$y,frequency = 365)\n",
    "  # fcst_horizon <- nrow(df_y)\n",
    "  # \n",
    "  # if(!is.null(xreg_cols)){\n",
    "  #   xreg <- df_x %>% select(all_of(xreg_cols)) %>% as.matrix()\n",
    "  #   yreg <- df_y %>% select(all_of(xreg_cols)) %>% as.matrix()\n",
    "  # }else{\n",
    "  #   xreg <- NULL\n",
    "  #   yreg <- NULL\n",
    "  # }\n",
    "  # \n",
    "  # fit_autoar <- auto.arima(ts_x,xreg = xreg)\n",
    "  # \n",
    "  # autoar_fit <- pmax(as.numeric(fit_autoar$fitted),0)#since its giving -ve\n",
    "  # autoar_pred <- pmax(as.numeric(forecast(fit_autoar,xreg=yreg)$mean),0)\n",
    "  \n",
    "  \n",
    "  # message('Running HoltsWinter for ',wh)\n",
    "  # #run holts\n",
    "  # fit_holtswin <- stats::HoltWinters(ts_x)\n",
    "  # \n",
    "  # holts_fit <- as.numeric(fit_holtswin$fitted[,'xhat'])\n",
    "  # holts_pred <- as.numeric(forecast(fit_holtswin, h = nrow(yreg))$mean)\n",
    "  \n",
    "  tr_fit <- tibble(ds=df_x$ds,actual=df_x$y,\n",
    "                   yhat=prophet_fit,\n",
    "                   #auto_arima = autoar_fit,\n",
    "                   #holtswint = holts_fit,\n",
    "                   WH_PT=wh,\n",
    "                   model = 'Prophet+is_wknd_is_wh+c19+US')\n",
    "  \n",
    "  fut_fit <- tibble(ds=df_y$ds,\n",
    "                    yhat=prophet_pred,\n",
    "                    #auto_arima = autoar_pred,\n",
    "                    #holtswint = holts_pred,\n",
    "                    WH_PT=wh,\n",
    "                    model = 'Prophet+is_wknd_is_wh+c19+US')\n",
    "  hist_fit <- rbind(hist_fit,tr_fit)\n",
    "  future_frcst <- rbind(future_frcst,fut_fit)\n",
    "}"
   ]
  },
  {
   "cell_type": "markdown",
   "metadata": {},
   "source": [
    "#### Bayesian Optimized Catboost Model "
   ]
  },
  {
   "cell_type": "code",
   "execution_count": 28,
   "metadata": {
    "execution": {
     "iopub.execute_input": "2022-04-23T15:53:01.784307Z",
     "iopub.status.busy": "2022-04-23T15:53:01.782040Z",
     "iopub.status.idle": "2022-04-23T15:53:01.800593Z"
    }
   },
   "outputs": [],
   "source": [
    "colnames(tr_data)"
   ]
  },
  {
   "cell_type": "code",
   "execution_count": 29,
   "metadata": {
    "execution": {
     "iopub.execute_input": "2022-04-23T15:53:03.361485Z",
     "iopub.status.busy": "2022-04-23T15:53:03.359939Z",
     "iopub.status.idle": "2022-04-23T15:53:03.386550Z"
    }
   },
   "outputs": [],
   "source": [
    "xreg_catboost <- tr_data %>% select(contains('ds_'),contains('n_'),contains('y_lag'),\n",
    "                                   all_of(c('county','states','c19_season','locale_US','is_weekend','is_wh_cls','warehouse_ID',\n",
    "                                   'Product_Type','year','month'))) %>% colnames()\n",
    "y <- 'y'\n",
    "xreg_catboost"
   ]
  },
  {
   "cell_type": "code",
   "execution_count": 30,
   "metadata": {
    "execution": {
     "iopub.execute_input": "2022-04-23T15:53:07.046845Z",
     "iopub.status.busy": "2022-04-23T15:53:07.045217Z",
     "iopub.status.idle": "2022-04-23T15:53:07.095917Z"
    }
   },
   "outputs": [],
   "source": [
    "str(tr_data)"
   ]
  },
  {
   "cell_type": "code",
   "execution_count": 31,
   "metadata": {
    "execution": {
     "iopub.execute_input": "2022-04-23T15:53:11.368733Z",
     "iopub.status.busy": "2022-04-23T15:53:11.367087Z",
     "iopub.status.idle": "2022-04-23T15:53:11.432456Z"
    }
   },
   "outputs": [],
   "source": [
    "tr_pool <- catboost.load_pool(data = tr_data[,xreg_catboost],\n",
    "                              label = unlist(tr_data[,y]))\n",
    "\n",
    "te_pool <- catboost.load_pool(data = te_data[,xreg_catboost])\n",
    "\n",
    "va_pool <- catboost.load_pool(data = val_data[,xreg_catboost],\n",
    "                             label = unlist(val_data[,y]))"
   ]
  },
  {
   "cell_type": "code",
   "execution_count": 32,
   "metadata": {
    "execution": {
     "iopub.execute_input": "2022-04-23T15:53:14.895304Z",
     "iopub.status.busy": "2022-04-23T15:53:14.893596Z",
     "iopub.status.idle": "2022-04-23T15:53:27.946826Z"
    }
   },
   "outputs": [],
   "source": [
    "install.packages('rBayesianOptimization')\n",
    "library(rBayesianOptimization)"
   ]
  },
  {
   "cell_type": "code",
   "execution_count": 33,
   "metadata": {
    "execution": {
     "iopub.execute_input": "2022-04-23T16:05:50.207448Z",
     "iopub.status.busy": "2022-04-23T16:05:50.205731Z",
     "iopub.status.idle": "2022-04-23T16:05:50.222536Z"
    }
   },
   "outputs": [],
   "source": [
    "#' Grid for bayesan\n",
    "grid_search <- expand.grid(\n",
    "  iterations = c(1000L,500L),\n",
    "  depth = c(4L,5L,6L),\n",
    "  learning_rate = c(0.01,0.03)\n",
    ")\n",
    "\n",
    "grid_bound = list(\n",
    "  iterations = c(1000L,500L),\n",
    "  depth = c(4L,6L),\n",
    "  learning_rate = c(0.01,1L))"
   ]
  },
  {
   "cell_type": "code",
   "execution_count": 38,
   "metadata": {
    "execution": {
     "iopub.execute_input": "2022-04-23T16:08:55.220392Z",
     "iopub.status.busy": "2022-04-23T16:08:55.218637Z",
     "iopub.status.idle": "2022-04-23T16:08:55.233224Z"
    }
   },
   "outputs": [],
   "source": [
    "catboost_fit <- function(iterations,depth,learning_rate){\n",
    "  \n",
    "  model <- catboost.train(tr_pool,\n",
    "                          va_pool,\n",
    "                          params = list(\n",
    "                            iterations=iterations,\n",
    "                            depth = depth,\n",
    "                            learning_rate = learning_rate,\n",
    "                            loss_function=\"RMSE\",\n",
    "                            eval_metric='MAPE',\n",
    "                            random_seed = 55,\n",
    "                            l2_leaf_reg=8,\n",
    "                            langevin=TRUE,\n",
    "                            early_stopping_rounds=200,\n",
    "                            od_type='Iter',\n",
    "                            metric_period = 50,\n",
    "                            od_wait=20,\n",
    "                            rsm=0.5,\n",
    "                            use_best_model=TRUE)\n",
    "  )\n",
    "  \n",
    "  val_enum <- catboost.predict(model,va_pool)\n",
    "  error <- rmse(val_data$y,val_enum)\n",
    "  \n",
    "  result <- list(Score = error,Pred=0)\n",
    "  \n",
    "  return(result)\n",
    "}"
   ]
  },
  {
   "cell_type": "code",
   "execution_count": 39,
   "metadata": {
    "execution": {
     "iopub.execute_input": "2022-04-23T16:08:56.929746Z",
     "iopub.status.busy": "2022-04-23T16:08:56.928036Z",
     "iopub.status.idle": "2022-04-23T16:13:17.744288Z"
    }
   },
   "outputs": [],
   "source": [
    "set.seed(1234)\n",
    "\n",
    "bayes_cat <- BayesianOptimization(FUN = catboost_fit,bounds = grid_bound,\n",
    "                                  init_points = 0,init_grid_dt = grid_search,\n",
    "                                  n_iter = 10,acq = \"ei\",verbose = TRUE)"
   ]
  },
  {
   "cell_type": "code",
   "execution_count": 40,
   "metadata": {
    "execution": {
     "iopub.execute_input": "2022-04-23T16:16:42.600655Z",
     "iopub.status.busy": "2022-04-23T16:16:42.599088Z",
     "iopub.status.idle": "2022-04-23T16:16:42.617429Z"
    }
   },
   "outputs": [],
   "source": [
    "bayes_cat$Best_Par"
   ]
  },
  {
   "cell_type": "code",
   "execution_count": 41,
   "metadata": {
    "execution": {
     "iopub.execute_input": "2022-04-23T16:19:59.288898Z",
     "iopub.status.busy": "2022-04-23T16:19:59.287227Z",
     "iopub.status.idle": "2022-04-23T16:20:04.348195Z"
    }
   },
   "outputs": [],
   "source": [
    "model_train <- catboost.train(tr_pool,params = list(\n",
    "  depth=bayes_cat$Best_Par['depth'],\n",
    "  iterations = bayes_cat$Best_Par['iterations'],\n",
    "  learning_rate=bayes_cat$Best_Par['learning_rate'],\n",
    "  loss_function=\"RMSE\",\n",
    "  eval_metric = \"MAPE\",\n",
    "  od_pval = 10^-5,\n",
    "  use_best_model=TRUE,\n",
    "  metric_period=100\n",
    "  ))"
   ]
  },
  {
   "cell_type": "code",
   "execution_count": 42,
   "metadata": {
    "execution": {
     "iopub.execute_input": "2022-04-23T16:20:18.887997Z",
     "iopub.status.busy": "2022-04-23T16:20:18.886397Z",
     "iopub.status.idle": "2022-04-23T16:20:18.945041Z"
    }
   },
   "outputs": [],
   "source": [
    "feat_imp <- as_tibble(catboost.get_feature_importance(model_train))%>% \n",
    "  rownames_to_column() %>% cbind(.,xreg_catboost) %>% arrange(desc(V1))\n",
    "feat_imp"
   ]
  },
  {
   "cell_type": "code",
   "execution_count": 58,
   "metadata": {
    "execution": {
     "iopub.execute_input": "2022-04-23T16:29:14.819524Z",
     "iopub.status.busy": "2022-04-23T16:29:14.817990Z",
     "iopub.status.idle": "2022-04-23T16:29:14.938484Z"
    }
   },
   "outputs": [],
   "source": [
    "#' Validation prediction and test prediction\n",
    "\n",
    "val_prediction <- catboost.predict(model_train,va_pool)\n",
    "\n",
    "te_prediction <- catboost.predict(model_train,te_pool)\n",
    "\n",
    "#' we saw negative values in the prediction, hence flooring the prediction at 0\n",
    "val_daily_cat <- val_data %>% select(ds,WH_PT,n_week,year,y) %>% mutate(y_hat = pmax(val_prediction,0))\n",
    "head(val_daily_cat)"
   ]
  },
  {
   "cell_type": "code",
   "execution_count": 51,
   "metadata": {
    "execution": {
     "iopub.execute_input": "2022-04-23T16:23:35.963325Z",
     "iopub.status.busy": "2022-04-23T16:23:35.961604Z",
     "iopub.status.idle": "2022-04-23T16:23:36.306792Z"
    }
   },
   "outputs": [],
   "source": [
    "options(repr.plot.width = 14, repr.plot.height = 8)\n",
    "hist_samp <- sample(unique_wh,1)\n",
    "val_daily_cat %>% filter(WH_PT==hist_samp) %>%\n",
    "  ggplot(aes(ds))+\n",
    "  geom_line(aes(y=y),color=\"red\")+\n",
    "  geom_line(aes(y=y_hat),color=\"steelblue\")+\n",
    "labs(title=hist_samp)"
   ]
  },
  {
   "cell_type": "markdown",
   "metadata": {},
   "source": [
    "we can see that the model had fit perfectly. But what are the chances that its over fit we are not sure unless we test it in the open "
   ]
  },
  {
   "cell_type": "code",
   "execution_count": 52,
   "metadata": {
    "execution": {
     "iopub.execute_input": "2022-04-23T16:23:46.158937Z",
     "iopub.status.busy": "2022-04-23T16:23:46.157366Z",
     "iopub.status.idle": "2022-04-23T16:23:46.233723Z"
    }
   },
   "outputs": [],
   "source": [
    "# Predict the weekly data\n",
    "val_cat_weekly_ <- val_daily_cat %>% \n",
    "    mutate(n_week=lubridate::isoweek(ds),\n",
    "          year=year(ds)) %>% \n",
    "    group_by(year,WH_PT,n_week) %>% summarise(yhat=sum(y_hat))\n",
    "val_cat_weekly <- val_cat_weekly_ %>%\n",
    "inner_join(.,wkly_dispatch_check,by=c(\"year\",\"WH_PT\",\"n_week\"))\n",
    "head(val_cat_weekly)"
   ]
  },
  {
   "cell_type": "code",
   "execution_count": 53,
   "metadata": {
    "execution": {
     "iopub.execute_input": "2022-04-23T16:23:51.218415Z",
     "iopub.status.busy": "2022-04-23T16:23:51.216773Z",
     "iopub.status.idle": "2022-04-23T16:23:51.414387Z"
    }
   },
   "outputs": [],
   "source": [
    "hist_samp <- sample(unique_wh,1)\n",
    "val_cat_weekly %>% filter(WH_PT==hist_samp) %>%\n",
    "  ggplot(aes(ds))+\n",
    "  geom_line(aes(y=wkly_dispatch),color=\"red\")+\n",
    "  geom_line(aes(y=yhat),color=\"steelblue\")+\n",
    "labs(title=hist_samp)"
   ]
  },
  {
   "cell_type": "code",
   "execution_count": 55,
   "metadata": {
    "execution": {
     "iopub.execute_input": "2022-04-23T16:27:14.269876Z",
     "iopub.status.busy": "2022-04-23T16:27:14.268299Z",
     "iopub.status.idle": "2022-04-23T16:27:14.467594Z"
    }
   },
   "outputs": [],
   "source": [
    "tr_data %>% filter(WH_PT=='WH_0x3f2_Type_A')"
   ]
  },
  {
   "cell_type": "code",
   "execution_count": null,
   "metadata": {},
   "outputs": [],
   "source": []
  },
  {
   "cell_type": "markdown",
   "metadata": {},
   "source": [
    "### Catboost Bayesian Submission"
   ]
  },
  {
   "cell_type": "code",
   "execution_count": 86,
   "metadata": {
    "execution": {
     "iopub.execute_input": "2022-04-22T17:09:37.727864Z",
     "iopub.status.busy": "2022-04-22T17:09:37.726215Z",
     "iopub.status.idle": "2022-04-22T17:09:37.819702Z"
    }
   },
   "outputs": [],
   "source": [
    "#' Create weekly forecast using the daily forecast\n",
    "#' Lets group by the WH_PT key and the week number,\n",
    "#' as we know that the sum of each weeks daily forecast = weekly forecast\n",
    "\n",
    "weekly_sub <- weekly_sub %>% mutate(flg=1)\n",
    "\n",
    "test_data <- full_data %>% filter(is_train==0) %>%\n",
    "  select(ID,ds,WH_PT) %>% left_join(.,weekly_sub,by=\"ID\") %>%\n",
    "  mutate(WK_NBR = as.integer(format(ds, '%V'))) %>%\n",
    "  mutate(cat=pmax(te_prediction,0))\n",
    "\n",
    "\n",
    "weekly_submission <- test_data %>% group_by(WH_PT,WK_NBR) %>%\n",
    "  mutate(weekly_dispatch_count = sum(cat))\n",
    "\n",
    "\n",
    "weekly_sub_final <- weekly_submission %>% filter(flg==1) %>% ungroup() %>%\n",
    "  select(ID,weekly_dispatch_count)\n",
    "\n"
   ]
  },
  {
   "cell_type": "code",
   "execution_count": 89,
   "metadata": {
    "execution": {
     "iopub.execute_input": "2022-04-22T17:10:30.948890Z",
     "iopub.status.busy": "2022-04-22T17:10:30.947316Z",
     "iopub.status.idle": "2022-04-22T17:10:30.967194Z"
    }
   },
   "outputs": [],
   "source": [
    "#\" Final submission\n",
    "\n",
    "filename <- paste('ak_catboost_bayes_3882_6_0-29',format(Sys.time(),\"%Y%m%d%H%M%s\"),sep = '_')\n",
    "write.csv(weekly_sub_final,paste0(filename,'.csv',collapse = ''),row.names = FALSE)"
   ]
  },
  {
   "cell_type": "code",
   "execution_count": null,
   "metadata": {},
   "outputs": [],
   "source": []
  },
  {
   "cell_type": "code",
   "execution_count": null,
   "metadata": {},
   "outputs": [],
   "source": []
  },
  {
   "cell_type": "code",
   "execution_count": null,
   "metadata": {},
   "outputs": [],
   "source": []
  },
  {
   "cell_type": "markdown",
   "metadata": {},
   "source": [
    "## Baseline Prophet - Validation\n",
    "\n",
    "Now lets validate the forecast at daily level for the above model"
   ]
  },
  {
   "cell_type": "code",
   "execution_count": 84,
   "metadata": {
    "execution": {
     "iopub.execute_input": "2022-04-22T17:06:23.460654Z",
     "iopub.status.busy": "2022-04-22T17:06:23.458511Z",
     "iopub.status.idle": "2022-04-22T17:06:23.495504Z"
    }
   },
   "outputs": [],
   "source": [
    "options(repr.plot.width = 14, repr.plot.height = 8)\n",
    "hist_samp <- sample(unique_wh,1)\n",
    "val_daily_cat <- hist_fit %>% filter(ds %in% val_data$ds)\n",
    "val_daily_dispatch %>% filter(WH_PT==hist_samp) %>%\n",
    "  ggplot(aes(ds))+\n",
    "  geom_line(aes(y=actual),color=\"red\")+\n",
    "  geom_line(aes(y=prophet),color=\"steelblue\")+\n",
    "labs(title=hist_samp)"
   ]
  },
  {
   "cell_type": "markdown",
   "metadata": {},
   "source": [
    "Now lets validate the forecast at weekly level"
   ]
  },
  {
   "cell_type": "code",
   "execution_count": null,
   "metadata": {
    "execution": {
     "iopub.execute_input": "2022-04-22T13:38:25.106113Z",
     "iopub.status.busy": "2022-04-22T13:38:25.104525Z",
     "iopub.status.idle": "2022-04-22T13:38:25.196955Z"
    }
   },
   "outputs": [],
   "source": [
    "wkly_dispatch_check <- full_data %>% group_by(WH_PT,year,n_week) %>%\n",
    "  mutate(wkly_dispatch = sum(y)) %>% drop_na() %>% select(ds,WH_PT,wkly_dispatch)\n",
    "head(wkly_dispatch_check)"
   ]
  },
  {
   "cell_type": "code",
   "execution_count": null,
   "metadata": {
    "execution": {
     "iopub.execute_input": "2022-04-22T13:38:26.631713Z",
     "iopub.status.busy": "2022-04-22T13:38:26.629918Z",
     "iopub.status.idle": "2022-04-22T13:38:26.711191Z"
    }
   },
   "outputs": [],
   "source": [
    "val_weekly_dispatch <- val_daily_dispatch %>% \n",
    "    mutate(n_week=lubridate::isoweek(ds),\n",
    "          year=year(ds)) %>% \n",
    "    group_by(year,WH_PT,n_week) %>% summarise(yhat=sum(prophet))\n",
    "val_weekly <- val_weekly_dispatch %>%\n",
    "inner_join(.,wkly_dispatch_check,by=c(\"year\",\"WH_PT\",\"n_week\"))\n",
    "head(val_weekly)"
   ]
  },
  {
   "cell_type": "code",
   "execution_count": null,
   "metadata": {
    "execution": {
     "iopub.execute_input": "2022-04-22T13:38:29.981209Z",
     "iopub.status.busy": "2022-04-22T13:38:29.97961Z",
     "iopub.status.idle": "2022-04-22T13:38:30.299278Z"
    }
   },
   "outputs": [],
   "source": [
    "hist_samp <- sample(unique_wh,1)\n",
    "val_weekly %>% filter(WH_PT==hist_samp) %>%\n",
    "  ggplot(aes(ds))+\n",
    "  geom_line(aes(y=wkly_dispatch),color=\"red\")+\n",
    "  geom_line(aes(y=yhat),color=\"steelblue\")+\n",
    "labs(title=hist_samp)"
   ]
  },
  {
   "cell_type": "markdown",
   "metadata": {},
   "source": [
    "## Submission of Model"
   ]
  },
  {
   "cell_type": "code",
   "execution_count": null,
   "metadata": {},
   "outputs": [],
   "source": [
    "#' Create weekly forecast using the daily forecast\n",
    "#' Lets group by the WH_PT key and the week number,\n",
    "#' as we know that the sum of each weeks daily forecast = weekly forecast\n",
    "\n",
    "weekly_sub <- weekly_sub %>% mutate(flg=1)\n",
    "\n",
    "test_data <- full_data %>% filter(is_train==0) %>%\n",
    "  select(ID,ds,WH_PT) %>% left_join(.,weekly_sub,by=\"ID\") %>%\n",
    "  mutate(WK_NBR = as.integer(format(ds, '%V'))) %>%\n",
    "  left_join(.,future_frcst,by=c(\"ds\"=\"df_y$ds\",\"WH_PT\")) %>%\n",
    "  mutate(prophet=pmax(prophet,0))\n",
    "\n",
    "\n",
    "weekly_submission <- test_data %>% group_by(WH_PT,WK_NBR) %>%\n",
    "  mutate(weekly_dispatch_count = sum(prophet))\n",
    "\n",
    "\n",
    "weekly_sub_final <- weekly_submission %>% filter(flg==1) %>% ungroup() %>%\n",
    "  select(ID,weekly_dispatch_count)\n",
    "\n",
    "#\" Final submission\n",
    "\n",
    "filename <- paste('ak_prophet',format(Sys.time(),\"%Y%m%d%H%M%s\"),sep = '_')\n",
    "write.csv(weekly_sub_final,paste0(filename,'.csv',collapse = ''),row.names = FALSE)\n",
    "\n",
    "write.csv(hist_fit,'prophet_hist_data_actual_pred.csv',row.names = FALSE)"
   ]
  },
  {
   "cell_type": "code",
   "execution_count": null,
   "metadata": {},
   "outputs": [],
   "source": []
  },
  {
   "cell_type": "code",
   "execution_count": null,
   "metadata": {},
   "outputs": [],
   "source": []
  }
 ],
 "metadata": {
  "kernelspec": {
   "display_name": "R",
   "language": "R",
   "name": "ir"
  },
  "language_info": {
   "codemirror_mode": "r",
   "file_extension": ".r",
   "mimetype": "text/x-r-source",
   "name": "R",
   "pygments_lexer": "r",
   "version": "3.6.1"
  }
 },
 "nbformat": 4,
 "nbformat_minor": 4
}
